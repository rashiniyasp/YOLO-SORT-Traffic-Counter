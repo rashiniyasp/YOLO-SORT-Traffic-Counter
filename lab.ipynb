{
 "cells": [
  {
   "cell_type": "code",
   "execution_count": null,
   "id": "6cda77a4",
   "metadata": {},
   "outputs": [],
   "source": [
    "# This cell starts the notebook\n",
    "print(\"Notebook started.\")"
   ]
  },
  {
   "cell_type": "code",
   "execution_count": null,
   "id": "f54cae38",
   "metadata": {},
   "outputs": [],
   "source": []
  }
 ],
 "metadata": {
  "language_info": {
   "name": "python"
  }
 },
 "nbformat": 4,
 "nbformat_minor": 5
}
